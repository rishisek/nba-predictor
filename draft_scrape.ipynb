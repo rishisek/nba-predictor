{
 "cells": [
  {
   "cell_type": "code",
   "execution_count": 38,
   "metadata": {},
   "outputs": [],
   "source": [
    "import requests\n",
    "from bs4 import BeautifulSoup as BS\n",
    "import pandas as pd"
   ]
  },
  {
   "cell_type": "code",
   "execution_count": 39,
   "metadata": {},
   "outputs": [],
   "source": [
    "page = requests.get(\"https://www.nba.com/draft/2021/draft-board\")\n",
    "soup = BS(page.content, 'html.parser')"
   ]
  },
  {
   "cell_type": "code",
   "execution_count": 40,
   "metadata": {},
   "outputs": [],
   "source": [
    "table = soup.find('table')"
   ]
  },
  {
   "cell_type": "code",
   "execution_count": 41,
   "metadata": {},
   "outputs": [
    {
     "data": {
      "text/plain": [
       "{0: 'PICK',\n",
       " 1: 'TEAM',\n",
       " 2: 'PLAYER',\n",
       " 3: 'POS',\n",
       " 4: 'SCHOOL/CLUB',\n",
       " 5: 'COUNTRY',\n",
       " 6: 'HEIGHT',\n",
       " 7: 'WEIGHT'}"
      ]
     },
     "execution_count": 41,
     "metadata": {},
     "output_type": "execute_result"
    }
   ],
   "source": [
    "thead = table.thead\n",
    "col_heads = {i:th.text for i,th in enumerate(thead.findAll('th'))}\n",
    "col_heads"
   ]
  },
  {
   "cell_type": "code",
   "execution_count": 42,
   "metadata": {},
   "outputs": [
    {
     "data": {
      "text/plain": [
       "[['1', '', 'Cade Cunningham', 'G', 'Oklahoma State', 'USA', '6-8', '220 lbs'],\n",
       " ['2', '', 'Jalen Green', 'G', 'G League Ignite', 'USA', '6-6', '178 lbs'],\n",
       " ['3', '', 'Evan Mobley', 'C', 'USC', 'USA', '7-0', '215 lbs'],\n",
       " ['4', '', 'Scottie Barnes', 'F', 'Florida State', 'USA', '6-8', '225 lbs'],\n",
       " ['5', '', 'Jalen Suggs', 'G', 'Gonzaga', 'USA', '6-4', '205 lbs'],\n",
       " ['6',\n",
       "  '',\n",
       "  'Josh Giddey',\n",
       "  'G',\n",
       "  'Adelaide (Australia)',\n",
       "  'Australia',\n",
       "  '6-8',\n",
       "  '200 lbs'],\n",
       " ['7',\n",
       "  '',\n",
       "  'Jonathan Kuminga',\n",
       "  'F',\n",
       "  'G League Ignite',\n",
       "  'DRC',\n",
       "  '6-6',\n",
       "  '210 lbs'],\n",
       " ['8', '', 'Franz Wagner', 'G-F', 'Michigan', 'Germany', '6-9', '220 lbs'],\n",
       " ['9', '', 'Davion Mitchell', 'G', 'Baylor', 'USA', '6-1', '202 lbs'],\n",
       " ['10',\n",
       "  '',\n",
       "  'Ziaire WilliamsTraded to MEM',\n",
       "  'F',\n",
       "  'Stanford',\n",
       "  'USA',\n",
       "  '6-8',\n",
       "  '185 lbs'],\n",
       " ['11', '', 'James Bouknight', 'G', 'Connecticut', 'USA', '6-5', '190 lbs'],\n",
       " ['12', '', 'Joshua Primo', 'G', 'Alabama', 'USA', '6-6', '190 lbs'],\n",
       " ['13',\n",
       "  '',\n",
       "  'Chris Duarte',\n",
       "  'G',\n",
       "  'Oregon',\n",
       "  'Dominican Republic',\n",
       "  '6-6',\n",
       "  '190 lbs'],\n",
       " ['14', '', 'Moses Moody', 'G', 'Arkansas', 'USA', '6-5', '211 lbs'],\n",
       " ['15', '', 'Corey Kispert', 'G-F', 'Gonzaga', 'USA', '6-7', '223 lbs'],\n",
       " ['16',\n",
       "  '',\n",
       "  'Alperen SengunTraded to HOU',\n",
       "  'C',\n",
       "  'Besiktas (Turkey)',\n",
       "  'Turkey',\n",
       "  '6-9',\n",
       "  '240 lbs'],\n",
       " ['17',\n",
       "  '',\n",
       "  'Trey MurphyTraded to NOP',\n",
       "  'G',\n",
       "  'Virginia',\n",
       "  'USA',\n",
       "  '6-9',\n",
       "  '205 lbs'],\n",
       " ['18', '', 'Tre Mann', 'G', 'Florida', 'USA', '6-5', '190 lbs'],\n",
       " ['19',\n",
       "  '',\n",
       "  'Kai JonesTraded to CHA',\n",
       "  'F',\n",
       "  'Texas',\n",
       "  'Bahamas',\n",
       "  '6-10',\n",
       "  '221 lbs'],\n",
       " ['20', '', 'Jalen Johnson', 'G-F', 'Duke', 'USA', '6-9', '210 lbs'],\n",
       " ['21',\n",
       "  '',\n",
       "  'Keon JohnsonTraded to LAC',\n",
       "  'G',\n",
       "  'Tennessee',\n",
       "  'USA',\n",
       "  '6-4',\n",
       "  '184 lbs'],\n",
       " ['22',\n",
       "  '',\n",
       "  'Isaiah JacksonTraded to IND',\n",
       "  'F',\n",
       "  'Kentucky',\n",
       "  'USA',\n",
       "  '6-10',\n",
       "  '205 lbs'],\n",
       " ['23', '', 'Usman Garuba', 'F', 'Real Madrid', 'Spain', '6-8', '229 lbs'],\n",
       " ['24', '', 'Josh Christopher', 'G', 'Arizona State', 'USA', '6-5', '215 lbs'],\n",
       " ['25',\n",
       "  '',\n",
       "  'Quentin GrimesTraded to NYK',\n",
       "  'G',\n",
       "  'Houston',\n",
       "  'USA',\n",
       "  '6-5',\n",
       "  '205 lbs'],\n",
       " ['26', '', \"Nah'Shon Hyland\", 'G', 'VCU', 'USA', '6-3', '173 lbs'],\n",
       " ['27', '', 'Cameron Thomas', 'G', 'LSU', 'USA', '6-4', '210 lbs'],\n",
       " ['28', '', 'Jaden Springer', 'G', 'Tennessee', 'USA', '6-4', '205 lbs'],\n",
       " ['29',\n",
       "  '',\n",
       "  \"Day'Ron SharpeTraded to BKN\",\n",
       "  'C',\n",
       "  'North Carolina',\n",
       "  'USA',\n",
       "  '6-11',\n",
       "  '265 lbs'],\n",
       " ['30',\n",
       "  '',\n",
       "  'Santi AldamaTraded to MEM',\n",
       "  'F',\n",
       "  'Loyola (MD)',\n",
       "  'Spain',\n",
       "  '6-11',\n",
       "  '224 lbs']]"
      ]
     },
     "execution_count": 42,
     "metadata": {},
     "output_type": "execute_result"
    }
   ],
   "source": [
    "tbody = table.tbody\n",
    "rows = []\n",
    "for tr in tbody.findAll('tr'):\n",
    "    row = [td.text for td in tr.findAll('td')]\n",
    "    row[1] = row[1][-3:]\n",
    "    rows.append(row)\n",
    "rows"
   ]
  },
  {
   "cell_type": "code",
   "execution_count": 43,
   "metadata": {},
   "outputs": [],
   "source": [
    "df = pd.DataFrame(rows)\n",
    "df = df.rename(columns=col_heads)\n",
    "df.to_csv('draft_board.csv')"
   ]
  }
 ],
 "metadata": {
  "interpreter": {
   "hash": "63397e0a95a98b61098b5ed67221e586b5ad3f408e75f7ea584af123b6392204"
  },
  "kernelspec": {
   "display_name": "Python 3.9.7 64-bit ('base': conda)",
   "language": "python",
   "name": "python3"
  },
  "language_info": {
   "codemirror_mode": {
    "name": "ipython",
    "version": 3
   },
   "file_extension": ".py",
   "mimetype": "text/x-python",
   "name": "python",
   "nbconvert_exporter": "python",
   "pygments_lexer": "ipython3",
   "version": "3.9.7"
  },
  "orig_nbformat": 4
 },
 "nbformat": 4,
 "nbformat_minor": 2
}
